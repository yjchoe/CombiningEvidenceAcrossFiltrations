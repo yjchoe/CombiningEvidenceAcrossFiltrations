{
 "cells": [
  {
   "cell_type": "markdown",
   "id": "c103e21c",
   "metadata": {},
   "source": [
    "# Example 1: e-process for testing a scale-invariant Gaussian\n",
    "\n",
    "E-process for testing whether the signal-to-noise ratio (mean over standard deviation) of a Gaussian is zero under a coarsening of the filtration.\n",
    "\n",
    "This example comes from [Perez-Ortiz et al. (2022)](https://arxiv.org/abs/2208.07610)."
   ]
  },
  {
   "cell_type": "code",
   "execution_count": 1,
   "id": "73366127",
   "metadata": {},
   "outputs": [],
   "source": [
    "import numpy as np\n",
    "import matplotlib.pyplot as plt\n",
    "import seaborn as sns\n",
    "\n",
    "import ecombine as ec"
   ]
  },
  {
   "cell_type": "code",
   "execution_count": 2,
   "id": "8e835815",
   "metadata": {},
   "outputs": [],
   "source": [
    "sns.set_theme(\n",
    "    style=\"whitegrid\", \n",
    "    palette=\"colorblind\", \n",
    "    font=\"Avenir\", \n",
    "    font_scale=1.75,\n",
    ")\n",
    "\n",
    "rng = np.random.default_rng(20221026)"
   ]
  },
  {
   "cell_type": "markdown",
   "id": "2f40774e",
   "metadata": {},
   "source": [
    "## Setup\n",
    "\n",
    "Suppose that the data $X_1, \\dotsc, X_n$ is sequentially samples from $\\mathcal{N}(\\mu, \\sigma^2)$. \n",
    "Consider the hypothesis test\n",
    "$$\n",
    "\\mathcal{H}_0 : \\frac{\\mu}{\\sigma} = \\delta_0 \\quad \\text{vs.}\\quad \\mathcal{H}_1 : \\frac{\\mu}{\\sigma} = \\delta_1,\n",
    "$$\n",
    "for some $\\delta_0 \\neq \\delta_1$.\n",
    "The parameter of interest $\\delta := \\mu/\\sigma$ is scale-invariant, in the sense that it is invariant to the mapping $(\\mu, \\sigma) \\mapsto (c\\mu, c\\sigma)$ for any $c \\in \\mathbb{R}^+$.\n",
    "\n",
    "Following Perez-Ortiz et al.'s example, fix $\\delta_0 = 0$ and consider the following GROW (growth-rate optimal in the worst case) e-statistic, with a mixture of $\\mathcal{N}(0, \\rho)$ taken over the potential alternatives in $\\delta_1$:\n",
    "$$\n",
    "\\tilde{T}_1 = 1 \\quad \\text{and} \\quad \\tilde{T}_2 = \\frac{\\sqrt{2\\rho^2+1} \\cdot (X_1^2+X_2^2)}{\\rho^2(X_1 - X_2)^2 + (X_1^2 + X_2^2)},\n",
    "$$\n",
    "for the first two sample sizes ($n=1, 2$).\n",
    "\n",
    "As shown in the paper, the GROW e-statistic is valid at any $\\mathbb{G}$-stopping time (or \"$\\mathbb{G}$-anytime-valid\"), where $\\mathbb{G} = (\\mathcal{G}_t)_{t\\geq0}$ is a scale-invariant coarsening of the data filtration $\\mathbb{F} = (\\sigma(X_1, \\dotsc, X_t))_{t\\geq 0}$:\n",
    "$$\n",
    "\\mathcal{G}_t = \\sigma\\left( \\frac{X_1}{|X_1|}, \\frac{X_2}{|X_1|}, \\dotsc, \\frac{X_t}{|X_1|} \\right).\n",
    "$$\n",
    "Intuitively, $\\mathbb{G}$ removes from $\\mathbb{F}$ the scale information about the initial data point $X_1$ and retains only its sign.\n",
    "    \n",
    "Now consider the following stopping time: for some $0 < a < b$,\n",
    "$$\n",
    "\\tau = \\begin{cases}\n",
    "    2 & \\mbox{if } |X_1| \\in [a, b]; \\\\\n",
    "    1 & \\mbox{otherwise}.\n",
    "\\end{cases}\n",
    "$$\n",
    "This is a $\\mathbb{F}$-stopping time that is not a $\\mathbb{G}$-stopping time."
   ]
  },
  {
   "cell_type": "code",
   "execution_count": 3,
   "id": "0b86cf34",
   "metadata": {},
   "outputs": [],
   "source": [
    "def compute_e_grow(x1, x2, rho):\n",
    "    \"\"\"Compute the GROW e-statistic at T=1 and T=2 \n",
    "    for the scale-invariant Gaussian hypotheses.\n",
    "    \n",
    "    N(0, rho) mixture is taken over the alternative.\n",
    "    \"\"\"\n",
    "    t1 = 1\n",
    "    t2 = (\n",
    "        np.sqrt(2 * rho ** 2 + 1) * (x1 ** 2 + x2 ** 2)\n",
    "    ) / (\n",
    "        rho ** 2 * (x1 - x2) ** 2 + (x1 ** 2 + x2 ** 2)\n",
    "    )\n",
    "    return t1, t2\n",
    "\n",
    "\n",
    "def compute_stopped_e(x1, x2, rho, a, b):\n",
    "    \"\"\"Return the statistic at a stopping time tau = 1 + I(a <= |x1| <= b).\"\"\"\n",
    "    t1, t2 = compute_e_grow(x1, x2, rho)\n",
    "    return np.where(\n",
    "        np.logical_and(a <= np.abs(x1), np.abs(x1) <= b),\n",
    "        t2,\n",
    "        t1,\n",
    "    )"
   ]
  },
  {
   "cell_type": "code",
   "execution_count": 4,
   "id": "ee238fbd",
   "metadata": {},
   "outputs": [
    {
     "data": {
      "text/plain": [
       "array(0.0078565)"
      ]
     },
     "execution_count": 4,
     "metadata": {},
     "output_type": "execute_result"
    }
   ],
   "source": [
    "compute_stopped_e(1.0, -0.5, 100, 0.44, 1.70)"
   ]
  },
  {
   "cell_type": "markdown",
   "id": "0f9614e7",
   "metadata": {},
   "source": [
    "## Reproducing Perez-Ortiz et al.'s Result\n",
    "\n",
    "At the $\\mathbb{F}$-stopping time $\\tau$, we expect to see that $\\mathbb{E}_{N(0,I_2)}[\\tilde{T}_\\tau] \\approx 1.19$, despite the fact that the statistic is a valid e-statistic at any $\\mathbb{G}$-stopping times.\n"
   ]
  },
  {
   "cell_type": "code",
   "execution_count": 5,
   "id": "894ce75c",
   "metadata": {},
   "outputs": [
    {
     "name": "stdout",
     "output_type": "stream",
     "text": [
      "expectation of the stopped statistic: 1.15936 +/- 0.03114\n"
     ]
    },
    {
     "data": {
      "image/png": "[encoded data removed]",
      "text/plain": [
       "<Figure size 864x360 with 1 Axes>"
      ]
     },
     "metadata": {},
     "output_type": "display_data"
    }
   ],
   "source": [
    "n = 100000\n",
    "rho = 200\n",
    "a, b = 0.44, 1.70\n",
    "# rho = 200\n",
    "# a, b = 0.44, 1.70\n",
    "\n",
    "X = rng.normal(0, 1, size=(n, 2))\n",
    "stopped_e = compute_stopped_e(X[:, 0], X[:, 1], rho, a, b)\n",
    "print(\"expectation of the stopped statistic: {:.5f} +/- {:.5f}\".format(\n",
    "    stopped_e.mean(), \n",
    "    stopped_e.std() / np.sqrt(n),\n",
    "))\n",
    "\n",
    "# take log base 10\n",
    "fig, ax = plt.subplots(1, 1, figsize=(12, 5))\n",
    "ax.hist(np.log10(stopped_e), bins=20)\n",
    "ax.set(\n",
    "    title=r\"Histogram of $\\log_{10}(E)$: \" + f\"rho={rho}, a={a}, b={b}\",\n",
    ")\n",
    "None"
   ]
  },
  {
   "cell_type": "markdown",
   "id": "b77b4d8b",
   "metadata": {},
   "source": [
    "The mode at $10^0=1$ corresponds to the ~43% mass in the case $\\tau=1$. The rest, in the case $\\tau=2$, most of the mass is in the area below 1."
   ]
  },
  {
   "cell_type": "code",
   "execution_count": 6,
   "id": "820bc5df",
   "metadata": {},
   "outputs": [
    {
     "data": {
      "text/plain": [
       "0.56858"
      ]
     },
     "execution_count": 6,
     "metadata": {},
     "output_type": "execute_result"
    }
   ],
   "source": [
    "# P(tau=2)\n",
    "(stopped_e != 1).mean()"
   ]
  },
  {
   "cell_type": "code",
   "execution_count": 7,
   "id": "de1e7191",
   "metadata": {},
   "outputs": [
    {
     "data": {
      "text/plain": [
       "0.02985"
      ]
     },
     "execution_count": 7,
     "metadata": {},
     "output_type": "execute_result"
    }
   ],
   "source": [
    "# P(T2 > 1)\n",
    "(stopped_e > 1).mean()"
   ]
  },
  {
   "cell_type": "markdown",
   "id": "3ebfc3d4",
   "metadata": {},
   "source": [
    "## E-lifting\n",
    "\n",
    "The e-lifting result of our work says that this issue can be fixed simply by applying an adjuster to the e-process and \"lift\" it into the larger filtration. We show this empirically:"
   ]
  },
  {
   "cell_type": "code",
   "execution_count": 8,
   "id": "67a5ef5b",
   "metadata": {},
   "outputs": [
    {
     "name": "stdout",
     "output_type": "stream",
     "text": [
      "expectation of the stopped statistic: 0.04486 +/- 0.00122\n"
     ]
    },
    {
     "data": {
      "image/png": "[encoded data removed]",
      "text/plain": [
       "<Figure size 864x360 with 1 Axes>"
      ]
     },
     "metadata": {},
     "output_type": "display_data"
    }
   ],
   "source": [
    "# taking the running maximum over t=1,2 in this case means taking max with T1=1\n",
    "adjusted_e = ec.adjuster(stopped_e, use_maximum=False, kappa=None)\n",
    "# adjusted_e = ec.p_to_e_calibrator(np.minimum(1, 1 / np.maximum(stopped_e, 1)))\n",
    "print(\"expectation of the stopped statistic: {:.5f} +/- {:.5f}\".format(\n",
    "    adjusted_e.mean(), \n",
    "    adjusted_e.std() / np.sqrt(n),\n",
    "))\n",
    "\n",
    "# NO log base 10\n",
    "fig, ax = plt.subplots(1, 1, figsize=(12, 5))\n",
    "ax.hist(adjusted_e, bins=20)\n",
    "ax.set(\n",
    "    title=r\"Histogram of $\\log_{10}(E^{lift})$: \" + f\"rho={rho}, a={a}, b={b}\",\n",
    ")\n",
    "None\n"
   ]
  },
  {
   "cell_type": "markdown",
   "id": "c1676998",
   "metadata": {},
   "source": [
    "Since most (97%) of the values were already below 1, the adjuster achieves a very low e-statistic.\n",
    "\n",
    "To see that this adjusted e-lifted statistic still has power, we can test it under an alternative distribution:\n",
    "\n",
    "**[it is difficult to have any power with 2 data points... think of a setup with more data!]**"
   ]
  },
  {
   "cell_type": "code",
   "execution_count": 9,
   "id": "f79d959c",
   "metadata": {},
   "outputs": [
    {
     "name": "stdout",
     "output_type": "stream",
     "text": [
      "expectation of the stopped statistic: 1.67150 +/- 0.04149\n"
     ]
    }
   ],
   "source": [
    "# alternative dist: X1 ~ N(1, 0.01^2) [almost always tau=2]; X2 ~ N(100, 1) [same delta1]\n",
    "delta1 = 1\n",
    "sig1 = 1\n",
    "sig2 = 1\n",
    "X1 = rng.normal(delta1 * sig1, sig1, size=n)\n",
    "X2 = rng.normal(delta1 * sig2, sig2, size=n)\n",
    "\n",
    "stopped_e = compute_stopped_e(X1, X2, rho, a, b)\n",
    "print(\"expectation of the stopped statistic: {:.5f} +/- {:.5f}\".format(\n",
    "    stopped_e.mean(), \n",
    "    stopped_e.std() / np.sqrt(n),\n",
    "))"
   ]
  },
  {
   "cell_type": "code",
   "execution_count": 10,
   "id": "5ce6a675",
   "metadata": {},
   "outputs": [
    {
     "data": {
      "text/plain": [
       "0.45688"
      ]
     },
     "execution_count": 10,
     "metadata": {},
     "output_type": "execute_result"
    }
   ],
   "source": [
    "# P(tau=2)\n",
    "(stopped_e == 1).mean()"
   ]
  },
  {
   "cell_type": "code",
   "execution_count": 11,
   "id": "05a688a0",
   "metadata": {},
   "outputs": [
    {
     "name": "stdout",
     "output_type": "stream",
     "text": [
      "expectation of the stopped statistic: 0.07102 +/- 0.00158\n"
     ]
    }
   ],
   "source": [
    "adjusted_e = ec.adjuster(stopped_e, use_maximum=False, kappa=None)\n",
    "print(\"expectation of the stopped statistic: {:.5f} +/- {:.5f}\".format(\n",
    "    adjusted_e.mean(), \n",
    "    adjusted_e.std() / np.sqrt(n),\n",
    "))"
   ]
  },
  {
   "cell_type": "markdown",
   "id": "5fb9d999",
   "metadata": {},
   "source": [
    "## Testing Proposition 1 (Randomize-then-lift)\n",
    "\n",
    "To disprove Ppn. 1, we can take $(T_t)_{t \\geq 0}$, which is adapted to $\\mathbb{G}$, and show that it is still not valid at a $\\mathbb{F}$-stopping time (either in the e-/p-value sense) after randomized adjustment:\n",
    "$$\n",
    "\\mathbb{E}_{(X_1, X_2) \\sim N(0,I^2); U \\sim Unif(0,1)}\\left[f\\left(\\frac{U}{\\tilde{T}_\\tau} \\wedge 1\\right)\\right] > 1.\n",
    "$$\n",
    "Here, $U$ is independent of $(X_1, X_2)$, and $f$ is any admissible p-to-e calibrator ([Vovk and Wang, 2021](https://doi.org/10.1214/20-AOS2020)), e.g., $f(p) = \\kappa p^{\\kappa-1}$ for any $\\kappa \\in (0,1)$."
   ]
  },
  {
   "cell_type": "code",
   "execution_count": 12,
   "id": "f8a147ee",
   "metadata": {},
   "outputs": [
    {
     "name": "stdout",
     "output_type": "stream",
     "text": [
      "expectation of the stopped statistic: 0.88363 +/- 0.00524\n"
     ]
    }
   ],
   "source": [
    "X = rng.normal(0, 1, size=(n, 2))\n",
    "u = rng.uniform(size=n)\n",
    "rand_adjusted_e = ec.p_to_e_calibrator(np.minimum(u / stopped_e, 1), kappa=0.5)\n",
    "print(\"expectation of the stopped statistic: {:.5f} +/- {:.5f}\".format(\n",
    "    rand_adjusted_e.mean(), \n",
    "    rand_adjusted_e.std() / np.sqrt(n),\n",
    "))"
   ]
  },
  {
   "cell_type": "code",
   "execution_count": 13,
   "id": "86e64791",
   "metadata": {},
   "outputs": [
    {
     "data": {
      "image/png": "[encoded data removed]",
      "text/plain": [
       "<Figure size 864x360 with 1 Axes>"
      ]
     },
     "metadata": {},
     "output_type": "display_data"
    }
   ],
   "source": [
    "# take log first\n",
    "fig, ax = plt.subplots(1, 1, figsize=(12, 5))\n",
    "ax.hist(np.log10(rand_adjusted_e), bins=20)\n",
    "ax.set(\n",
    "    title=r\"Histogram of $\\log_{10}(E^{rtl})$: \" + f\"rho={rho}, a={a}, b={b}\",\n",
    ")\n",
    "None"
   ]
  }
 ],
 "metadata": {
  "kernelspec": {
   "display_name": "Python 3 (ipykernel)",
   "language": "python",
   "name": "python3"
  },
  "language_info": {
   "codemirror_mode": {
    "name": "ipython",
    "version": 3
   },
   "file_extension": ".py",
   "mimetype": "text/x-python",
   "name": "python",
   "nbconvert_exporter": "python",
   "pygments_lexer": "ipython3",
   "version": "3.9.10"
  }
 },
 "nbformat": 4,
 "nbformat_minor": 5
}
